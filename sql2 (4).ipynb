{
 "cells": [
  {
   "cell_type": "code",
   "execution_count": 1,
   "id": "c1226a5a-4938-4168-a5df-0d6c8c40c88a",
   "metadata": {
    "tags": []
   },
   "outputs": [
    {
     "name": "stderr",
     "output_type": "stream",
     "text": [
      "Setting default log level to \"WARN\".\n",
      "To adjust logging level use sc.setLogLevel(newLevel). For SparkR, use setLogLevel(newLevel).\n",
      "2024-10-27 14:55:02,164 WARN yarn.Client: Neither spark.yarn.jars nor spark.yarn.archive is set, falling back to uploading libraries under SPARK_HOME.\n"
     ]
    }
   ],
   "source": [
    "import findspark\n",
    "findspark.init()\n",
    "\n",
    "import pyspark\n",
    "sc = pyspark.SparkContext(appName='jupyter')"
   ]
  },
  {
   "cell_type": "code",
   "execution_count": 2,
   "id": "1aa46ae8-fee1-425e-bb36-c3b8c427e4c6",
   "metadata": {
    "tags": []
   },
   "outputs": [],
   "source": [
    "from pyspark.sql import SparkSession\n",
    "from pyspark.sql.types import StringType\n",
    "from pyspark.sql import functions as F\n",
    "import re"
   ]
  },
  {
   "cell_type": "code",
   "execution_count": 3,
   "id": "1877db82-b221-4a52-a826-8c6f7ca9e9f2",
   "metadata": {
    "tags": []
   },
   "outputs": [],
   "source": [
    "spark = SparkSession.builder.appName(\"Clickstream\").getOrCreate()"
   ]
  },
  {
   "cell_type": "code",
   "execution_count": 4,
   "id": "39af7b4e-3b95-4996-8cb2-99d867272bac",
   "metadata": {
    "tags": []
   },
   "outputs": [
    {
     "name": "stderr",
     "output_type": "stream",
     "text": [
      "                                                                                \r"
     ]
    }
   ],
   "source": [
    "clickstream_df = spark.read.csv(\"hdfs:/data/clickstream.csv\", header=True, inferSchema=True, sep='\\t')\n",
    "clickstream_df.createOrReplaceTempView(\"clickstream\")"
   ]
  },
  {
   "cell_type": "code",
   "execution_count": 5,
   "id": "3fafed71-af72-44e4-a071-bbd9af92fdae",
   "metadata": {
    "tags": []
   },
   "outputs": [],
   "source": [
    "routes = spark.sql(\"\"\"\n",
    "with error_flag as\n",
    "    (SELECT *, \n",
    "           CASE WHEN event_type LIKE '%error%' THEN 1 ELSE 0 END AS is_error \n",
    "    FROM clickstream),\n",
    "    cleaned_events as\n",
    "    (SELECT *\n",
    "    FROM (\n",
    "        SELECT *, \n",
    "               SUM(is_error) OVER(PARTITION BY user_id, session_id ORDER BY timestamp) AS error_flag\n",
    "        FROM error_flag\n",
    "    ) WHERE error_flag = 0 AND event_type = 'page'),\n",
    "    events as\n",
    "    (SELECT user_id, session_id, event_page, timestamp\n",
    "    FROM (\n",
    "        SELECT *,\n",
    "               LAG(event_page) OVER (PARTITION BY user_id, session_id ORDER BY timestamp) AS prev_page\n",
    "        FROM cleaned_events\n",
    "    ) \n",
    "    WHERE event_page != prev_page OR prev_page IS NULL)\n",
    "    SELECT user_id, session_id, \n",
    "           CONCAT_WS('-', COLLECT_LIST(event_page)) AS route\n",
    "    FROM events\n",
    "    GROUP BY user_id, session_id\n",
    "    \n",
    "    \n",
    "\"\"\")\n",
    "\n",
    "routes.createOrReplaceTempView(\"routes\")\n",
    "\n",
    "top_routes_df = spark.sql(\"\"\"\n",
    "    SELECT route, COUNT(*) AS count\n",
    "    FROM routes\n",
    "    GROUP BY route\n",
    "    ORDER BY count DESC\n",
    "    LIMIT 30\n",
    "\"\"\")"
   ]
  },
  {
   "cell_type": "code",
   "execution_count": 12,
   "id": "d589d324-01e1-4b26-bcc0-19daf66eb162",
   "metadata": {
    "tags": []
   },
   "outputs": [],
   "source": [
    "with open(\"top30.txt\", 'w') as file:\n",
    "    for row in top_routes_df:\n",
    "        file.write(f\"{row.route}\\t{row.count}\\n\")"
   ]
  },
  {
   "cell_type": "code",
   "execution_count": null,
   "id": "63b4ac30-d87b-4073-a2fe-c1b9cc8ddded",
   "metadata": {},
   "outputs": [],
   "source": []
  }
 ],
 "metadata": {
  "kernelspec": {
   "display_name": "Python 3 (ipykernel)",
   "language": "python",
   "name": "python3"
  },
  "language_info": {
   "codemirror_mode": {
    "name": "ipython",
    "version": 3
   },
   "file_extension": ".py",
   "mimetype": "text/x-python",
   "name": "python",
   "nbconvert_exporter": "python",
   "pygments_lexer": "ipython3",
   "version": "3.10.9"
  }
 },
 "nbformat": 4,
 "nbformat_minor": 5
}
