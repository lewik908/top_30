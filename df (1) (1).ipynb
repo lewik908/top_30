{
 "cells": [
  {
   "cell_type": "code",
   "execution_count": 1,
   "id": "1c6d6385-fe66-4df3-ba47-3bc67dcb7c17",
   "metadata": {
    "tags": []
   },
   "outputs": [
    {
     "name": "stderr",
     "output_type": "stream",
     "text": [
      "Setting default log level to \"WARN\".\n",
      "To adjust logging level use sc.setLogLevel(newLevel). For SparkR, use setLogLevel(newLevel).\n",
      "2024-10-27 15:05:14,457 WARN yarn.Client: Neither spark.yarn.jars nor spark.yarn.archive is set, falling back to uploading libraries under SPARK_HOME.\n"
     ]
    }
   ],
   "source": [
    "import findspark\n",
    "findspark.init()\n",
    "\n",
    "import pyspark\n",
    "sc = pyspark.SparkContext(appName='jupyter')\n",
    "from pyspark.sql import SparkSession\n",
    "from pyspark.sql import functions as F\n",
    "from pyspark.sql.window import Window\n",
    "from pyspark.sql.types import StringType\n"
   ]
  },
  {
   "cell_type": "code",
   "execution_count": 2,
   "id": "28392acc-360f-4eec-b7a7-5306e3d2b286",
   "metadata": {
    "tags": []
   },
   "outputs": [
    {
     "name": "stderr",
     "output_type": "stream",
     "text": [
      "                                                                                \r"
     ]
    }
   ],
   "source": [
    "spark = SparkSession.builder \\\n",
    "    .appName(\"Clickstream\") \\\n",
    "    .getOrCreate()\n",
    "\n",
    "clickstream_df = spark.read.option(\"header\", \"true\") \\\n",
    "                            .option(\"delimiter\", \"\\t\") \\\n",
    "                            .csv(\"hdfs:/data/clickstream.csv\")\n",
    "\n",
    "clickstream_df = clickstream_df.withColumn(\"user_id\", clickstream_df[\"user_id\"].cast(\"int\")) \\\n",
    "                                 .withColumn(\"session_id\", clickstream_df[\"session_id\"].cast(\"int\")) \\\n",
    "                                 .withColumn(\"timestamp\", clickstream_df[\"timestamp\"].cast(\"int\"))"
   ]
  },
  {
   "cell_type": "code",
   "execution_count": 3,
   "id": "9b33846a-c6d3-4f76-a684-ea899aa9fa95",
   "metadata": {
    "tags": []
   },
   "outputs": [],
   "source": [
    "clickstream_df = clickstream_df.withColumn(\"is_error\", F.when(F.col(\"event_type\").contains(\"error\"), 1).otherwise(0))"
   ]
  },
  {
   "cell_type": "code",
   "execution_count": 4,
   "id": "2c95ec18-3be9-44e4-a817-8c5ef5f6cd58",
   "metadata": {
    "tags": []
   },
   "outputs": [],
   "source": [
    "window = Window.partitionBy(\"user_id\", \"session_id\").orderBy(\"timestamp\")\n",
    "clickstream_df = clickstream_df.withColumn(\"error_flag\", F.sum(\"is_error\").over(window))"
   ]
  },
  {
   "cell_type": "code",
   "execution_count": 5,
   "id": "36174a30-044e-40cc-952e-c58881043411",
   "metadata": {
    "tags": []
   },
   "outputs": [],
   "source": [
    "clickstream_df = clickstream_df.withColumn(\"time_error\", F.min(F.when(clickstream_df[\"is_error\"] == 1, \"timestamp\")).over(window))"
   ]
  },
  {
   "cell_type": "code",
   "execution_count": 6,
   "id": "b6a8a67d-4efd-4746-a91b-e0d166198392",
   "metadata": {
    "tags": []
   },
   "outputs": [],
   "source": [
    "cleaned_df = clickstream_df.filter((F.col(\"error_flag\") == 0) |\n",
    "                                    (F.col(\"timestamp\") < F.col('time_error')))"
   ]
  },
  {
   "cell_type": "code",
   "execution_count": 7,
   "id": "d5d823ae-6af1-49ba-8e5a-20bc1bbbfed0",
   "metadata": {
    "tags": []
   },
   "outputs": [],
   "source": [
    "df = cleaned_df.filter(F.col(\"event_type\") == 'page')"
   ]
  },
  {
   "cell_type": "code",
   "execution_count": 8,
   "id": "0a09242d-7bee-4b80-b15f-8cc254cbd69a",
   "metadata": {
    "tags": []
   },
   "outputs": [],
   "source": [
    "routes_df = df.groupBy(\"user_id\", \"session_id\") \\\n",
    "                       .agg(F.collect_list(\"event_page\").alias(\"events\")) \\\n",
    "                       .withColumn(\"route\", F.concat_ws(\"-\", \"events\")) \\\n",
    "                       .select(\"route\")\n"
   ]
  },
  {
   "cell_type": "code",
   "execution_count": 9,
   "id": "80f05511-386f-425e-8a27-d2d710d0757f",
   "metadata": {
    "tags": []
   },
   "outputs": [],
   "source": [
    "def remove_duplicates(route):\n",
    "    parts = route.split('-')\n",
    "    cleaned_parts = []\n",
    "    for part in parts:\n",
    "        if not cleaned_parts or cleaned_parts[-1] != part:\n",
    "            cleaned_parts.append(part)\n",
    "    return '-'.join(cleaned_parts)"
   ]
  },
  {
   "cell_type": "code",
   "execution_count": 10,
   "id": "c09c7b63-8805-4222-9398-89e5181844c3",
   "metadata": {
    "tags": []
   },
   "outputs": [],
   "source": [
    "remove_duplicates_udf = F.udf(remove_duplicates, StringType())"
   ]
  },
  {
   "cell_type": "code",
   "execution_count": 12,
   "id": "2c427dd5-6056-4e49-958f-0773fc56550a",
   "metadata": {
    "tags": []
   },
   "outputs": [],
   "source": [
    "cleaned_routes_df = routes_df.withColumn(\"route\", remove_duplicates_udf(F.col(\"route\"))) \\\n",
    "                              .select(\"route\")"
   ]
  },
  {
   "cell_type": "code",
   "execution_count": 13,
   "id": "5da3bc7d-a28f-4124-bd7e-10d7ce514e27",
   "metadata": {
    "tags": []
   },
   "outputs": [],
   "source": [
    "route_counts_df = cleaned_routes_df.groupBy(\"route\") \\\n",
    "                                     .agg(F.count(\"*\").alias(\"count\")) \\\n",
    "                                     .orderBy(F.desc(\"count\"))"
   ]
  },
  {
   "cell_type": "code",
   "execution_count": 14,
   "id": "1f3a1f6c-bb29-40d1-8adb-ef95c767b7fb",
   "metadata": {
    "tags": []
   },
   "outputs": [],
   "source": [
    "top_routes_df = route_counts_df.limit(30)\n"
   ]
  },
  {
   "cell_type": "code",
   "execution_count": null,
   "id": "f8a1e1c8-b925-41c7-97f8-1beab8c248b3",
   "metadata": {},
   "outputs": [
    {
     "name": "stderr",
     "output_type": "stream",
     "text": [
      "[Stage 3:=========================================>               (11 + 3) / 15]\r"
     ]
    }
   ],
   "source": [
    "top_routes_df.show()"
   ]
  },
  {
   "cell_type": "code",
   "execution_count": 17,
   "id": "b783cab3-e632-4edd-bde7-a86ddec1d952",
   "metadata": {
    "tags": []
   },
   "outputs": [],
   "source": [
    "with open('top_30.txt', 'w') as file:\n",
    "    for row in top_routes_df.collect():\n",
    "        file.write(f\"{row['route']}\\t{row['count']}\\n\")"
   ]
  },
  {
   "cell_type": "code",
   "execution_count": null,
   "id": "d37dd843-a767-49ec-ac02-d8665b3c8fd9",
   "metadata": {},
   "outputs": [],
   "source": []
  }
 ],
 "metadata": {
  "kernelspec": {
   "display_name": "Python 3 (ipykernel)",
   "language": "python",
   "name": "python3"
  },
  "language_info": {
   "codemirror_mode": {
    "name": "ipython",
    "version": 3
   },
   "file_extension": ".py",
   "mimetype": "text/x-python",
   "name": "python",
   "nbconvert_exporter": "python",
   "pygments_lexer": "ipython3",
   "version": "3.10.9"
  }
 },
 "nbformat": 4,
 "nbformat_minor": 5
}
