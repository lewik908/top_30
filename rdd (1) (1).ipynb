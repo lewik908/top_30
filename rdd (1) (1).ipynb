{
 "cells": [
  {
   "cell_type": "code",
   "execution_count": 1,
   "id": "5ccdd3cb-ae64-4abd-902e-0b09360ed069",
   "metadata": {
    "tags": []
   },
   "outputs": [
    {
     "name": "stderr",
     "output_type": "stream",
     "text": [
      "Setting default log level to \"WARN\".\n",
      "To adjust logging level use sc.setLogLevel(newLevel). For SparkR, use setLogLevel(newLevel).\n",
      "2024-10-27 13:57:06,820 WARN yarn.Client: Neither spark.yarn.jars nor spark.yarn.archive is set, falling back to uploading libraries under SPARK_HOME.\n"
     ]
    }
   ],
   "source": [
    "import findspark\n",
    "findspark.init()\n",
    "\n",
    "import pyspark\n",
    "sc = pyspark.SparkContext(appName='jupyter')\n",
    "from pyspark.sql import SparkSession, Row"
   ]
  },
  {
   "cell_type": "code",
   "execution_count": 21,
   "id": "1990a6cf-9571-47e7-9c0a-b20f037151c8",
   "metadata": {
    "tags": []
   },
   "outputs": [],
   "source": [
    "spark = SparkSession(sc)\n",
    "\n",
    "input_path = \"hdfs:/data/clickstream.csv\"\n",
    "clickstream_rdd = sc.textFile(input_path)\n",
    "\n",
    "header = clickstream_rdd.first()  \n",
    "clickstream_rdd = clickstream_rdd.filter(lambda line: line != header)  \n",
    "\n",
    "\n",
    "def formatted(line):\n",
    "    line = line.split(\"\\t\") \n",
    "    return {\n",
    "        \"user_id\": int(line[0]),  \n",
    "        \"session_id\": int(line[1]),  \n",
    "        \"event_type\": line[2],  \n",
    "        \"event_page\": line[3],  \n",
    "        \"timestamp\": int(line[4]) \n",
    "    }\n",
    "\n",
    "clickstream_formatted = clickstream_rdd.map(formatted)"
   ]
  },
  {
   "cell_type": "code",
   "execution_count": 22,
   "id": "b0a2544d-3d65-4be8-b82c-a297ea7c68ba",
   "metadata": {
    "tags": []
   },
   "outputs": [
    {
     "name": "stderr",
     "output_type": "stream",
     "text": [
      "                                                                                \r"
     ]
    }
   ],
   "source": [
    "error_sessions = clickstream_formatted.filter(lambda line: \"error\" in line[\"event_type\"]) \\\n",
    "                                            .map(lambda line: ((line['user_id'], line[\"session_id\"]), line[\"timestamp\"])) \\\n",
    "                                            .reduceByKey(lambda a, b: min(a, b))  \n",
    "\n",
    "error_sessions = error_sessions.collectAsMap()\n",
    "\n",
    "def is_after_error(line):\n",
    "    session_id = line[\"session_id\"]\n",
    "    user_id = line[\"user_id\"]\n",
    "    return (user_id, session_id) in error_sessions and line[\"timestamp\"] >= error_sessions[(user_id, session_id)]\n",
    "\n",
    "clickstream = clickstream_formatted.filter(lambda line: not is_after_error(line))"
   ]
  },
  {
   "cell_type": "code",
   "execution_count": 23,
   "id": "7a38431e-6748-4869-bb15-74a03841668e",
   "metadata": {
    "tags": []
   },
   "outputs": [],
   "source": [
    "page_events = clickstream.filter(lambda line: line[\"event_type\"] == \"page\")"
   ]
  },
  {
   "cell_type": "code",
   "execution_count": 32,
   "id": "be92ca23-f242-4dac-a276-47c711be8d23",
   "metadata": {
    "tags": []
   },
   "outputs": [],
   "source": [
    "def routes(user_id, session_id, events):\n",
    "    events_sorted = sorted(events, key=lambda x: x['timestamp'])\n",
    "    linked = []\n",
    "    previous = None\n",
    "\n",
    "    for event in events_sorted:\n",
    "        current = event['event_page']\n",
    "\n",
    "        if previous is None or previous != current:\n",
    "            linked.append(current)\n",
    "            previous = current\n",
    "    linked = \"-\".join(linked)\n",
    "    return (user_id, session_id), linked\n",
    "\n",
    "\n",
    "routes_rdd = page_events.map(lambda line: ((line[\"user_id\"], line[\"session_id\"]), line)) \\\n",
    "                                           .groupByKey() \\\n",
    "                                           .mapValues(list) \\\n",
    "                                           .map(lambda x: routes(x[0][0], x[0][1], x[1]))"
   ]
  },
  {
   "cell_type": "code",
   "execution_count": 33,
   "id": "e4a2ce28-a16a-4ac0-8ecf-22d294eb61e9",
   "metadata": {
    "tags": []
   },
   "outputs": [
    {
     "name": "stderr",
     "output_type": "stream",
     "text": [
      "                                                                                \r"
     ]
    },
    {
     "data": {
      "text/plain": [
       "((2209, 541), 'main-bonus-online-internet-news-main')"
      ]
     },
     "execution_count": 33,
     "metadata": {},
     "output_type": "execute_result"
    }
   ],
   "source": [
    "routes_rdd.first()"
   ]
  },
  {
   "cell_type": "code",
   "execution_count": 36,
   "id": "19121e01-7079-4dc9-a1cc-b03225724dba",
   "metadata": {
    "tags": []
   },
   "outputs": [],
   "source": [
    "routes_rdd = routes_rdd.map(lambda x: (x[1], 1))  "
   ]
  },
  {
   "cell_type": "code",
   "execution_count": 37,
   "id": "b807784a-08ad-4f82-974a-c13d32e351e7",
   "metadata": {
    "tags": []
   },
   "outputs": [
    {
     "data": {
      "text/plain": [
       "PythonRDD[43] at RDD at PythonRDD.scala:53"
      ]
     },
     "execution_count": 37,
     "metadata": {},
     "output_type": "execute_result"
    }
   ],
   "source": [
    "routes_rdd"
   ]
  },
  {
   "cell_type": "code",
   "execution_count": 43,
   "id": "580e8776-ef0f-4c76-8dc3-8d914e42b883",
   "metadata": {
    "tags": []
   },
   "outputs": [],
   "source": [
    "route_counts = routes_rdd.reduceByKey(lambda a, b: a + b)\n",
    "#route_counts = route_counts.collect()"
   ]
  },
  {
   "cell_type": "code",
   "execution_count": 91,
   "id": "c024733f-db6a-488f-93b9-7f8124181797",
   "metadata": {
    "tags": []
   },
   "outputs": [
    {
     "name": "stderr",
     "output_type": "stream",
     "text": [
      "                                                                                \r"
     ]
    }
   ],
   "source": [
    "sorted_counts_rdd = route_counts.sortBy(lambda x: x[1], ascending=False)"
   ]
  },
  {
   "cell_type": "code",
   "execution_count": 92,
   "id": "6c7571ec-67c7-4de2-bace-764dcae91b3a",
   "metadata": {
    "tags": []
   },
   "outputs": [
    {
     "name": "stderr",
     "output_type": "stream",
     "text": [
      "                                                                                \r"
     ]
    }
   ],
   "source": [
    "formatted_data = sorted_counts_rdd.map(lambda x: f\"{x[0]}\\t{x[1]}\").take(30)\n"
   ]
  },
  {
   "cell_type": "code",
   "execution_count": 96,
   "id": "30f9518e-0c0a-4b80-af8f-fa0aafec5c7e",
   "metadata": {
    "tags": []
   },
   "outputs": [],
   "source": [
    "with open('text.txt', 'w') as file:\n",
    "    for line in formatted_data:\n",
    "        file.write(line + '\\n')"
   ]
  },
  {
   "cell_type": "code",
   "execution_count": null,
   "id": "f26accaa-43f6-43e6-98a0-1e135ea85231",
   "metadata": {},
   "outputs": [],
   "source": []
  }
 ],
 "metadata": {
  "kernelspec": {
   "display_name": "Python 3 (ipykernel)",
   "language": "python",
   "name": "python3"
  },
  "language_info": {
   "codemirror_mode": {
    "name": "ipython",
    "version": 3
   },
   "file_extension": ".py",
   "mimetype": "text/x-python",
   "name": "python",
   "nbconvert_exporter": "python",
   "pygments_lexer": "ipython3",
   "version": "3.10.9"
  },
  "toc-autonumbering": true,
  "toc-showmarkdowntxt": true
 },
 "nbformat": 4,
 "nbformat_minor": 5
}
